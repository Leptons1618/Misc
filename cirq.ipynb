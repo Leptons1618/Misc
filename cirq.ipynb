{
 "cells": [
  {
   "cell_type": "code",
   "execution_count": 31,
   "metadata": {},
   "outputs": [],
   "source": [
    "try:\n",
    "    import cirq\n",
    "except ImportError:\n",
    "    print(\"installing cirq...\")\n",
    "    %pip install cirq --quiet\n",
    "    print(\"installed cirq.\")\n",
    "    import cirq"
   ]
  },
  {
   "cell_type": "code",
   "execution_count": 17,
   "metadata": {},
   "outputs": [
    {
     "name": "stdout",
     "output_type": "stream",
     "text": [
      "Circuit:\n",
      "(0, 0): ───X^0.5───M('m')───\n",
      "Results:\n",
      "m=00110001011110110011\n"
     ]
    }
   ],
   "source": [
    "# Pick a qubit.\n",
    "qubit = cirq.GridQubit(0, 0)\n",
    "\n",
    "# Create a circuit that applies a square root of NOT gate, then measures the qubit.\n",
    "circuit = cirq.Circuit(cirq.X(qubit) ** 0.5, cirq.measure(qubit, key='m'))\n",
    "print(\"Circuit:\")\n",
    "print(circuit)\n",
    "\n",
    "# Simulate the circuit several times.\n",
    "simulator = cirq.Simulator()\n",
    "result = simulator.run(circuit, repetitions=20)\n",
    "print(\"Results:\")\n",
    "print(result)"
   ]
  },
  {
   "cell_type": "code",
   "execution_count": 20,
   "metadata": {},
   "outputs": [
    {
     "name": "stdout",
     "output_type": "stream",
     "text": [
      "Histogram:\n",
      "Counter({1: 11, 0: 9})\n",
      "__________________________________________________\n",
      "State:\n",
      "measurements: m=1\n",
      "\n",
      "qubits: (cirq.GridQubit(0, 0),)\n",
      "output vector: (0.707-0.707j)|1⟩\n",
      "\n",
      "phase:\n",
      "output vector: |⟩\n"
     ]
    }
   ],
   "source": [
    "# Print the histogram of results.\n",
    "print(\"Histogram:\")\n",
    "print(result.histogram(key='m'))\n",
    "\n",
    "# Print the state of the qubit.\n",
    "print(f'_____'*10)\n",
    "print(\"State:\")\n",
    "print(simulator.simulate(circuit))"
   ]
  },
  {
   "cell_type": "code",
   "execution_count": 29,
   "metadata": {},
   "outputs": [
    {
     "name": "stdout",
     "output_type": "stream",
     "text": [
      "result: [ 0.  1.  4.  9. 16.]...[9.99990e+11 9.99992e+11 9.99994e+11 9.99996e+11 9.99998e+11]\n",
      "Normal loop: 0.062 seconds\n",
      "__________________________________________________\n",
      "result: [ 0  1  4  9 16]...[999990000025 999992000016 999994000009 999996000004 999998000001]\n",
      "Vectorized computation: 0.002 seconds\n",
      "______________________________________________________________________________________________________________________________________________________\n"
     ]
    },
    {
     "data": {
      "text/plain": [
       "[None, None]"
      ]
     },
     "execution_count": 29,
     "metadata": {},
     "output_type": "execute_result"
    }
   ],
   "source": [
    "import numpy as np\n",
    "import time\n",
    "import asyncio\n",
    "\n",
    "# Normal loop vs vectorized computation\n",
    "n = 1000000\n",
    "\n",
    "# Normal loop\n",
    "async def normal_loop():\n",
    "    start = time.time()\n",
    "    a = np.zeros(n)\n",
    "    for i in range(n):\n",
    "        a[i] = i**2\n",
    "    end = time.time()\n",
    "    print(f'result: {a[:5]}...{a[-5:]}')\n",
    "    print(f'Normal loop: {end-start:.3f} seconds')\n",
    "    print(f'_____'*10)\n",
    "    \n",
    "# Vectorized computation\n",
    "async def vectorized_computation():\n",
    "    start = time.time()\n",
    "    a = np.arange(n)**2\n",
    "    end = time.time()\n",
    "    print(f'result: {a[:5]}...{a[-5:]}')\n",
    "    print(f'Vectorized computation: {end-start:.3f} seconds')\n",
    "    print(f'_____'*30)\n",
    "    \n",
    "# Run the normal loop and vectorized computation\n",
    "await asyncio.gather(normal_loop(), vectorized_computation())"
   ]
  }
 ],
 "metadata": {
  "kernelspec": {
   "display_name": "cirq",
   "language": "python",
   "name": "python3"
  },
  "language_info": {
   "codemirror_mode": {
    "name": "ipython",
    "version": 3
   },
   "file_extension": ".py",
   "mimetype": "text/x-python",
   "name": "python",
   "nbconvert_exporter": "python",
   "pygments_lexer": "ipython3",
   "version": "3.11.7"
  }
 },
 "nbformat": 4,
 "nbformat_minor": 2
}
