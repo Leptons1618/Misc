{
 "cells": [
  {
   "cell_type": "code",
   "execution_count": null,
   "metadata": {},
   "outputs": [],
   "source": [
    "## Day 1"
   ]
  },
  {
   "cell_type": "code",
   "execution_count": 1,
   "metadata": {},
   "outputs": [
    {
     "name": "stdout",
     "output_type": "stream",
     "text": [
      "Hello, World!\n"
     ]
    }
   ],
   "source": [
    "msg = \"Hello, World!\"\n",
    "print(msg)"
   ]
  },
  {
   "cell_type": "code",
   "execution_count": 4,
   "metadata": {},
   "outputs": [
    {
     "data": {
      "text/plain": [
       "5"
      ]
     },
     "execution_count": 4,
     "metadata": {},
     "output_type": "execute_result"
    }
   ],
   "source": [
    "def add(*nums):\n",
    "    return sum(nums)\n",
    "add(2, 3)"
   ]
  },
  {
   "cell_type": "code",
   "execution_count": 6,
   "metadata": {},
   "outputs": [
    {
     "data": {
      "text/plain": [
       "[34, 36, 72, 85]"
      ]
     },
     "execution_count": 6,
     "metadata": {},
     "output_type": "execute_result"
    }
   ],
   "source": [
    "def CtoF(*temps):\n",
    "    return [i+32 for i in temps]\n",
    "\n",
    "CtoF(2, 4, 40, 53)"
   ]
  },
  {
   "cell_type": "code",
   "execution_count": 82,
   "metadata": {},
   "outputs": [
    {
     "name": "stdin",
     "output_type": "stream",
     "text": [
      "Enter length and width:  3 7.8\n"
     ]
    },
    {
     "name": "stdout",
     "output_type": "stream",
     "text": [
      "Area of the rectangle: 23.4\n"
     ]
    }
   ],
   "source": [
    "def area_of_rectangle(length, width):\n",
    "    return length * width\n",
    "    \n",
    "length, width = map(float, input(\"Enter length and width: \").split())\n",
    "\n",
    "print(f\"Area of the rectangle: {area_of_rectangle(length, width)}\")"
   ]
  },
  {
   "cell_type": "code",
   "execution_count": 23,
   "metadata": {},
   "outputs": [
    {
     "name": "stdin",
     "output_type": "stream",
     "text": [
      "Enter name and age:  Anish 22\n"
     ]
    },
    {
     "name": "stdout",
     "output_type": "stream",
     "text": [
      "Hello, Anish! You've come along 22 years in this world.\n"
     ]
    }
   ],
   "source": [
    "name, age = input(\"Enter name and age: \").split()\n",
    "print(f\"Hello, {name}! You've come along {age} years in this world.\")"
   ]
  },
  {
   "cell_type": "code",
   "execution_count": 32,
   "metadata": {},
   "outputs": [
    {
     "name": "stdout",
     "output_type": "stream",
     "text": [
      "5 is Odd\n",
      "4 is Even\n",
      "13 is Odd\n",
      "14 is Even\n"
     ]
    }
   ],
   "source": [
    "def check(*nums):\n",
    "    for i in nums:\n",
    "        if i%2:\n",
    "            print(f\"{i} is Odd\")\n",
    "        else:\n",
    "            print(f\"{i} is Even\")\n",
    "\n",
    "check(5, 4, 13, 14)"
   ]
  },
  {
   "cell_type": "code",
   "execution_count": 40,
   "metadata": {},
   "outputs": [
    {
     "name": "stdin",
     "output_type": "stream",
     "text": [
      "Enter the array:  3 4 1 6 8 3 5\n"
     ]
    },
    {
     "name": "stdout",
     "output_type": "stream",
     "text": [
      "Min: 1 & Max: 8\n"
     ]
    }
   ],
   "source": [
    "def findMaxnMin(nums):\n",
    "    nums.sort()\n",
    "    return nums[0], nums[-1]\n",
    "\n",
    "arr = list(map(int, input(\"Enter the array: \").split()))\n",
    "min, max = findMaxnMin(arr)\n",
    "print(f\"Min: {min} & Max: {max}\")"
   ]
  },
  {
   "cell_type": "code",
   "execution_count": 50,
   "metadata": {},
   "outputs": [
    {
     "name": "stdout",
     "output_type": "stream",
     "text": [
      "Hello is not an Palindrome\n",
      "dAd is an Palindrome\n",
      "abBa is an Palindrome\n",
      "good is not an Palindrome\n"
     ]
    }
   ],
   "source": [
    "def checkPalindrome(*args):\n",
    "    for s in args:\n",
    "        if s.lower() == s[::-1].lower():\n",
    "            print(f\"{s} is an Palindrome\")\n",
    "        else:\n",
    "            print(f\"{s} is not an Palindrome\")\n",
    "\n",
    "checkPalindrome(\"Hello\", \"dAd\", \"abBa\", \"good\")"
   ]
  },
  {
   "cell_type": "code",
   "execution_count": 54,
   "metadata": {},
   "outputs": [
    {
     "name": "stdin",
     "output_type": "stream",
     "text": [
      "Principle, Rate, Number of times interest Compounded in an year, Time Period:  12000 10 2 0.5\n"
     ]
    },
    {
     "name": "stdout",
     "output_type": "stream",
     "text": [
      "The compound interest of Principle 12000.0 for 2.0 number of times compounded in an year for 0.5 time period at 10.0% interest rate: 72000.0\n"
     ]
    }
   ],
   "source": [
    "def compoundInterest(P, r, n, t):\n",
    "    return P * (1 + (r/n)) ** (n*t)\n",
    "\n",
    "P, r, n, t = map(float, input(\"Principle, Rate, Number of times interest Compounded in an year, Time Period: \").split())\n",
    "print(f\"The compound interest of Principle {P} for {n} number of times compounded in an year for {t} time period at {r}% interest rate: {compoundInterest(P, r, n, t)}\")"
   ]
  },
  {
   "cell_type": "code",
   "execution_count": 59,
   "metadata": {},
   "outputs": [
    {
     "name": "stdin",
     "output_type": "stream",
     "text": [
      "Days:  500\n"
     ]
    },
    {
     "name": "stdout",
     "output_type": "stream",
     "text": [
      "500 : 1 year 4 month 15 days\n"
     ]
    }
   ],
   "source": [
    "def convertDays(days):\n",
    "    years = days // 365\n",
    "    remainings = days % 365\n",
    "    months = remainings // 30\n",
    "    r_days = remainings % 30\n",
    "    return years, months, r_days\n",
    "\n",
    "days = int(input(\"Days: \"))\n",
    "years, months, r_days = convertDays(days)\n",
    "print(f\"{days} : {years} year {months} month {r_days} days\")"
   ]
  },
  {
   "cell_type": "code",
   "execution_count": 65,
   "metadata": {},
   "outputs": [
    {
     "name": "stdin",
     "output_type": "stream",
     "text": [
      "Enter only Integers:  2 -1 7 -8 2 0 7\n"
     ]
    },
    {
     "name": "stdout",
     "output_type": "stream",
     "text": [
      "Sum of all Positive integers from the list is 18\n"
     ]
    }
   ],
   "source": [
    "def sumOfAllPositives(nums):\n",
    "    res = [i for i in nums if i > 0]\n",
    "    return sum(res)\n",
    "\n",
    "nums = list(map(int, input(\"Enter only Integers: \").split()))\n",
    "res = sumOfAllPositives(nums)\n",
    "print(f\"Sum of all Positive integers from the list is {res}\")"
   ]
  },
  {
   "cell_type": "code",
   "execution_count": 71,
   "metadata": {},
   "outputs": [
    {
     "name": "stdin",
     "output_type": "stream",
     "text": [
      " Hello! myself Anish\n"
     ]
    },
    {
     "name": "stdout",
     "output_type": "stream",
     "text": [
      "Number of Count: 3\n"
     ]
    }
   ],
   "source": [
    "def countTheWord(sentence):\n",
    "    return len(sentence.split())\n",
    "\n",
    "print(f\"Number of Count: {countTheWord(input())}\")"
   ]
  },
  {
   "cell_type": "code",
   "execution_count": 79,
   "metadata": {},
   "outputs": [
    {
     "name": "stdin",
     "output_type": "stream",
     "text": [
      "a, b:  2 7\n"
     ]
    },
    {
     "name": "stdout",
     "output_type": "stream",
     "text": [
      "Swapped Value: \n",
      " a: 7 & b: 2\n"
     ]
    }
   ],
   "source": [
    "def swap(a, b):\n",
    "    a += b\n",
    "    b = a - b\n",
    "    a -= b\n",
    "    return a, b\n",
    "\n",
    "a, b = map(int, input(\"a, b: \").split())\n",
    "a, b = swap(a, b)\n",
    "print(f\"Swapped Value: \\n a: {a} & b: {b}\")"
   ]
  },
  {
   "cell_type": "code",
   "execution_count": null,
   "metadata": {},
   "outputs": [],
   "source": [
    "## Day 2"
   ]
  },
  {
   "cell_type": "code",
   "execution_count": null,
   "metadata": {},
   "outputs": [],
   "source": []
  }
 ],
 "metadata": {
  "kernelspec": {
   "display_name": "Python 3 (ipykernel)",
   "language": "python",
   "name": "python3"
  },
  "language_info": {
   "codemirror_mode": {
    "name": "ipython",
    "version": 3
   },
   "file_extension": ".py",
   "mimetype": "text/x-python",
   "name": "python",
   "nbconvert_exporter": "python",
   "pygments_lexer": "ipython3",
   "version": "3.11.6"
  }
 },
 "nbformat": 4,
 "nbformat_minor": 4
}
