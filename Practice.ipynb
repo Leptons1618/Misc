{
 "cells": [
  {
   "cell_type": "markdown",
   "metadata": {},
   "source": [
    "## Day 1"
   ]
  },
  {
   "cell_type": "code",
   "execution_count": 4,
   "metadata": {},
   "outputs": [
    {
     "name": "stdout",
     "output_type": "stream",
     "text": [
      "Hello, World!\n"
     ]
    }
   ],
   "source": [
    "msg = \"Hello, World!\"\n",
    "print(msg)"
   ]
  },
  {
   "cell_type": "code",
   "execution_count": 5,
   "metadata": {},
   "outputs": [
    {
     "data": {
      "text/plain": [
       "5"
      ]
     },
     "execution_count": 5,
     "metadata": {},
     "output_type": "execute_result"
    }
   ],
   "source": [
    "def add(*nums):\n",
    "    return sum(nums)\n",
    "add(2, 3)"
   ]
  },
  {
   "cell_type": "code",
   "execution_count": 6,
   "metadata": {},
   "outputs": [
    {
     "data": {
      "text/plain": [
       "[34, 36, 72, 85]"
      ]
     },
     "execution_count": 6,
     "metadata": {},
     "output_type": "execute_result"
    }
   ],
   "source": [
    "def CtoF(*temps):\n",
    "    return [i+32 for i in temps]\n",
    "\n",
    "CtoF(2, 4, 40, 53)"
   ]
  },
  {
   "cell_type": "code",
   "execution_count": 7,
   "metadata": {},
   "outputs": [
    {
     "name": "stdout",
     "output_type": "stream",
     "text": [
      "Area of the rectangle: 30.150000000000002\n"
     ]
    }
   ],
   "source": [
    "def area_of_rectangle(length, width):\n",
    "    return length * width\n",
    "    \n",
    "length, width = map(float, input(\"Enter length and width: \").split())\n",
    "\n",
    "print(f\"Area of the rectangle: {area_of_rectangle(length, width)}\")"
   ]
  },
  {
   "cell_type": "code",
   "execution_count": 8,
   "metadata": {},
   "outputs": [
    {
     "name": "stdout",
     "output_type": "stream",
     "text": [
      "Hello, anish! You've come along 22 years in this world.\n"
     ]
    }
   ],
   "source": [
    "name, age = input(\"Enter name and age: \").split()\n",
    "print(f\"Hello, {name}! You've come along {age} years in this world.\")"
   ]
  },
  {
   "cell_type": "code",
   "execution_count": 9,
   "metadata": {},
   "outputs": [
    {
     "name": "stdout",
     "output_type": "stream",
     "text": [
      "5 is Odd\n",
      "4 is Even\n",
      "13 is Odd\n",
      "14 is Even\n"
     ]
    }
   ],
   "source": [
    "def check(*nums):\n",
    "    for i in nums:\n",
    "        if i%2:\n",
    "            print(f\"{i} is Odd\")\n",
    "        else:\n",
    "            print(f\"{i} is Even\")\n",
    "\n",
    "check(5, 4, 13, 14)"
   ]
  },
  {
   "cell_type": "code",
   "execution_count": 10,
   "metadata": {},
   "outputs": [
    {
     "name": "stdout",
     "output_type": "stream",
     "text": [
      "Min: 0 & Max: 8\n"
     ]
    }
   ],
   "source": [
    "def findMaxnMin(nums):\n",
    "    nums.sort()\n",
    "    return nums[0], nums[-1]\n",
    "\n",
    "arr = list(map(int, input(\"Enter the array: \").split()))\n",
    "min, max = findMaxnMin(arr)\n",
    "print(f\"Min: {min} & Max: {max}\")1 "
   ]
  },
  {
   "cell_type": "code",
   "execution_count": 11,
   "metadata": {},
   "outputs": [
    {
     "name": "stdout",
     "output_type": "stream",
     "text": [
      "Hello is not an Palindrome\n",
      "dAd is an Palindrome\n",
      "abBa is an Palindrome\n",
      "good is not an Palindrome\n"
     ]
    }
   ],
   "source": [
    "def checkPalindrome(*args):\n",
    "    for s in args:\n",
    "        if s.lower() == s[::-1].lower():\n",
    "            print(f\"{s} is an Palindrome\")\n",
    "        else:\n",
    "            print(f\"{s} is not an Palindrome\")\n",
    "\n",
    "checkPalindrome(\"Hello\", \"dAd\", \"abBa\", \"good\")"
   ]
  },
  {
   "cell_type": "code",
   "execution_count": 12,
   "metadata": {},
   "outputs": [
    {
     "name": "stdout",
     "output_type": "stream",
     "text": [
      "The compound interest of Principle 12000.0 for 3.0 number of times compounded in an year for 0.5 time period at 10.0% interest rate: 108246.63197223892\n"
     ]
    }
   ],
   "source": [
    "def compoundInterest(P, r, n, t):\n",
    "    return P * (1 + (r/n)) ** (n*t)\n",
    "\n",
    "P, r, n, t = map(float, input(\"Principle, Rate, Number of times interest Compounded in an year, Time Period: \").split())\n",
    "print(f\"The compound interest of Principle {P} for {n} number of times compounded in an year for {t} time period at {r}% interest rate: {compoundInterest(P, r, n, t)}\")"
   ]
  },
  {
   "cell_type": "code",
   "execution_count": 13,
   "metadata": {},
   "outputs": [
    {
     "name": "stdout",
     "output_type": "stream",
     "text": [
      "500 : 1 year 4 month 15 days\n"
     ]
    }
   ],
   "source": [
    "def convertDays(days):\n",
    "    years = days // 365\n",
    "    remainings = days % 365\n",
    "    months = remainings // 30\n",
    "    r_days = remainings % 30\n",
    "    return years, months, r_days\n",
    "\n",
    "days = int(input(\"Days: \"))\n",
    "years, months, r_days = convertDays(days)\n",
    "print(f\"{days} : {years} year {months} month {r_days} days\")"
   ]
  },
  {
   "cell_type": "code",
   "execution_count": 14,
   "metadata": {},
   "outputs": [
    {
     "name": "stdout",
     "output_type": "stream",
     "text": [
      "Sum of all Positive integers from the list is 19\n"
     ]
    }
   ],
   "source": [
    "def sumOfAllPositives(nums):\n",
    "    res = [i for i in nums if i > 0]\n",
    "    return sum(res)\n",
    "\n",
    "nums = list(map(int, input(\"Enter only Integers: \").split()))\n",
    "res = sumOfAllPositives(nums)\n",
    "print(f\"Sum of all Positive integers from the list is {res}\")"
   ]
  },
  {
   "cell_type": "code",
   "execution_count": 15,
   "metadata": {},
   "outputs": [
    {
     "name": "stdout",
     "output_type": "stream",
     "text": [
      "Number of Count: 10\n"
     ]
    }
   ],
   "source": [
    "def countTheWord(sentence):\n",
    "    return len(sentence.split())\n",
    "\n",
    "print(f\"Number of Count: {countTheWord(input())}\")"
   ]
  },
  {
   "cell_type": "code",
   "execution_count": 18,
   "metadata": {},
   "outputs": [
    {
     "name": "stdout",
     "output_type": "stream",
     "text": [
      "Swapped Value: \n",
      " a: 2.0 \t b: 3.0\n"
     ]
    }
   ],
   "source": [
    "def swap(a, b):\n",
    "    a += b\n",
    "    b = a - b\n",
    "    a -= b\n",
    "    return a, b\n",
    "\n",
    "a, b = map(float, input(\"a, b: \").split())\n",
    "a, b = swap(a, b)\n",
    "print(f\"Swapped Value: \\n a: {a} \\t b: {b}\")"
   ]
  },
  {
   "cell_type": "markdown",
   "metadata": {},
   "source": [
    "## Day 2"
   ]
  },
  {
   "cell_type": "code",
   "execution_count": 19,
   "metadata": {},
   "outputs": [
    {
     "name": "stdout",
     "output_type": "stream",
     "text": [
      "Name: Leptons \n",
      "Age: 22 \n",
      "Average Test Score: 7\n"
     ]
    }
   ],
   "source": [
    "# Variables\n",
    "name, age, average_test_score = input(\"Enter name, age, average test score: \").split()\n",
    "print(f\"Name: {name} \\nAge: {age} \\nAverage Test Score: {average_test_score}\")"
   ]
  },
  {
   "cell_type": "code",
   "execution_count": 21,
   "metadata": {},
   "outputs": [
    {
     "name": "stdout",
     "output_type": "stream",
     "text": [
      "Concatenated String: hello how u do'in\n"
     ]
    }
   ],
   "source": [
    "# Concatenate two strings and print the result\n",
    "str1 = input(\"Enter the first string: \")\n",
    "str2 = input(\"Enter the second string: \")\n",
    "print(f\"Concatenated String: {str1 + ' ' + str2}\")"
   ]
  },
  {
   "cell_type": "code",
   "execution_count": 22,
   "metadata": {},
   "outputs": [
    {
     "name": "stdout",
     "output_type": "stream",
     "text": [
      "Orange\n"
     ]
    }
   ],
   "source": [
    "# Create list of fruits and access it by index\n",
    "fruits = [\"Apple\", \"Banana\", \"Orange\", \"Grapes\", \"Mango\"]\n",
    "print(fruits[2])"
   ]
  },
  {
   "cell_type": "code",
   "execution_count": 23,
   "metadata": {},
   "outputs": [
    {
     "name": "stdout",
     "output_type": "stream",
     "text": [
      "List: [3, 4, 2, 5, 5] \n",
      "Average: 3.8 \t Sum: 19\n"
     ]
    }
   ],
   "source": [
    "# Given the list of numbers, find the average and the sum of all the numbers\n",
    "nums = list(map(int, input(\"Enter the numbers: \").split()))\n",
    "print(f\"List: {nums} \\nAverage: {sum(nums) / len(nums)} \\t Sum: {sum(nums)}\")"
   ]
  },
  {
   "cell_type": "code",
   "execution_count": 26,
   "metadata": {},
   "outputs": [
    {
     "name": "stdout",
     "output_type": "stream",
     "text": [
      "Celsius: 30.0*C \n",
      "Kelvin: 303.15K \n",
      "Fahrenheit: 86.0*F\n"
     ]
    }
   ],
   "source": [
    "# Celsius to Kelvin and Fahrenheit\n",
    "celsius = float(input(\"Enter the temperature in Celsius: \"))\n",
    "kelvin = celsius + 273.15\n",
    "fahrenheit = (celsius * 9/5) + 32\n",
    "print(f\"Celsius: {celsius}*C \\nKelvin: {kelvin}K \\nFahrenheit: {fahrenheit}*F\")"
   ]
  },
  {
   "cell_type": "code",
   "execution_count": 34,
   "metadata": {},
   "outputs": [
    {
     "name": "stdout",
     "output_type": "stream",
     "text": [
      "Using Naive Method: irahlig\n",
      "Using Recursive Function: ahos\n",
      "Using Slice Operator: ikut\n"
     ]
    }
   ],
   "source": [
    "# Function to reverse a string using naive method\n",
    "def reverseString_naive(str):\n",
    "    rev_str = \"\"\n",
    "    for s in str:\n",
    "        rev_str = s + rev_str\n",
    "    return rev_str\n",
    "print(f\"Using Naive Method: {reverseString_naive(input())}\")\n",
    "\n",
    "# Recursive function to reverse a string\n",
    "def reverseString(str):\n",
    "    if len(str) == 0:\n",
    "        return str\n",
    "    else:\n",
    "        return reverseString(str[1:]) + str[0]\n",
    "print(f\"Using Recursive Function: {reverseString(input())}\")\n",
    "\n",
    "# Slice operator to reverse a string\n",
    "def reverseString(str):\n",
    "    return str[::-1]\n",
    "print(f\"Using Slice Operator: {reverseString(input())}\")"
   ]
  },
  {
   "cell_type": "code",
   "execution_count": 37,
   "metadata": {},
   "outputs": [
    {
     "name": "stdout",
     "output_type": "stream",
     "text": [
      "List of names: ['anish', 'harsh', 'sabhia', 'keya', 'soha', 'abhishek', 'swarnabha']\n"
     ]
    }
   ],
   "source": [
    "# Given a list of names, remove all the names that start with S\n",
    "names = list(input(\"Enter the names: \").split())\n",
    "res = [name for name in names if not name.startswith('S' or 's')]\n",
    "print(f\"List of names: {res}\")"
   ]
  },
  {
   "cell_type": "code",
   "execution_count": 44,
   "metadata": {},
   "outputs": [
    {
     "name": "stdout",
     "output_type": "stream",
     "text": [
      "quick brown fox jumps over the lazy dog is a Pangram: True\n"
     ]
    }
   ],
   "source": [
    "# Check if a given string is a Pangram\n",
    "def checkPangram(str):\n",
    "    alphabet = \"abcdefghijklmnopqrstuvwxyz\"\n",
    "    for char in alphabet:\n",
    "        if char not in str.lower():\n",
    "            return False\n",
    "    return True\n",
    "str = input(\"Check if a given string is a Pangram: \")\n",
    "print(f\"{str} is a Pangram: {checkPangram(str)}\")"
   ]
  },
  {
   "cell_type": "code",
   "execution_count": 45,
   "metadata": {},
   "outputs": [
    {
     "name": "stdout",
     "output_type": "stream",
     "text": [
      "Area: 78.5 \n",
      "Circumference: 31.400000000000002\n"
     ]
    }
   ],
   "source": [
    "# area and circumference of a circle given radius\n",
    "def circle(radius):\n",
    "    area = 3.14 * radius ** 2\n",
    "    circumference = 2 * 3.14 * radius\n",
    "    return area, circumference\n",
    "radius = float(input(\"Enter the radius: \"))\n",
    "area, circumference = circle(radius)\n",
    "print(f\"Area: {area} \\nCircumference: {circumference}\")"
   ]
  },
  {
   "cell_type": "code",
   "execution_count": 48,
   "metadata": {},
   "outputs": [
    {
     "name": "stdout",
     "output_type": "stream",
     "text": [
      "100 minutes is : 0 hours and 40 minutes\n"
     ]
    }
   ],
   "source": [
    "# Convert given minutes into hours and minutes\n",
    "def convertMinutes(minutes):\n",
    "    hours = minutes // 60\n",
    "    minutes = minutes % 60\n",
    "    return hours, minutes\n",
    "input_minutes = int(input(\"Minutes: \"))\n",
    "hours, minutes = convertMinutes(minutes)\n",
    "print(f\"{input_minutes} minutes is : {hours} hours and {minutes} minutes\")"
   ]
  },
  {
   "cell_type": "code",
   "execution_count": 50,
   "metadata": {},
   "outputs": [
    {
     "name": "stdout",
     "output_type": "stream",
     "text": [
      "Number of vowels in quick brown fox jumps over the lazy dog is : 10\n"
     ]
    }
   ],
   "source": [
    "# Count the number of vowels in a string\n",
    "def countVowels(str):\n",
    "    vowels = \"aeiou\"\n",
    "    count = 0\n",
    "    for char in str.lower():\n",
    "        if char in vowels:\n",
    "            count += 1\n",
    "    return count\n",
    "str = input(\"Enter the string: \")\n",
    "print(f\"Number of vowels in {str} is : {countVowels(str)}\")"
   ]
  },
  {
   "cell_type": "code",
   "execution_count": 51,
   "metadata": {},
   "outputs": [
    {
     "name": "stdout",
     "output_type": "stream",
     "text": [
      "4 is a Prime Number: False\n",
      "5 is a Prime Number: True\n"
     ]
    }
   ],
   "source": [
    "# Check if a given number is a prime number\n",
    "def checkPrime(num):\n",
    "    if num > 1:\n",
    "        for i in range(2, num):\n",
    "            if num % i == 0:\n",
    "                return False\n",
    "        return True\n",
    "    return False\n",
    "num = int(input(\"Enter the number: \"))\n",
    "print(f\"{num} is a Prime Number: {checkPrime(num)}\")\n",
    "\n",
    "# More efficient way to check if a given number is a prime number (using square root)\n",
    "def checkPrime(num):\n",
    "    if num > 1:\n",
    "        for i in range(2, int(num ** 0.5) + 1):\n",
    "            if num % i == 0:\n",
    "                return False\n",
    "        return True\n",
    "    return False\n",
    "num = int(input(\"Enter the number: \"))\n",
    "print(f\"{num} is a Prime Number: {checkPrime(num)}\")"
   ]
  },
  {
   "cell_type": "code",
   "execution_count": 58,
   "metadata": {},
   "outputs": [
    {
     "name": "stdout",
     "output_type": "stream",
     "text": [
      "[2, 3, 5, 7, 11, 13, 17, 19, 23, 29, 31, 37, 41, 43, 47, 53, 59, 61, 67, 71]\n"
     ]
    }
   ],
   "source": [
    "def is_prime(num):\n",
    "    \"\"\"Check if a number is prime.\"\"\"\n",
    "    if num <= 1:\n",
    "        return False\n",
    "    for i in range(2, int(num**0.5) + 1):\n",
    "        if num % i == 0:\n",
    "            return False\n",
    "    return True\n",
    "\n",
    "def generate_n_primes(n):\n",
    "    \"\"\"Generate a list of n prime numbers.\"\"\"\n",
    "    primes = []\n",
    "    num = 2\n",
    "    while len(primes) < n:\n",
    "        if is_prime(num):\n",
    "            primes.append(num)\n",
    "        num += 1\n",
    "    return primes\n",
    "\n",
    "n = int(input(\"Enter the number: \"))\n",
    "prime_numbers = generate_n_primes(n)\n",
    "print(prime_numbers)"
   ]
  },
  {
   "cell_type": "markdown",
   "metadata": {},
   "source": [
    "## Day 3"
   ]
  },
  {
   "cell_type": "code",
   "execution_count": null,
   "metadata": {},
   "outputs": [],
   "source": []
  }
 ],
 "metadata": {
  "kernelspec": {
   "display_name": "Python 3 (ipykernel)",
   "language": "python",
   "name": "python3"
  },
  "language_info": {
   "codemirror_mode": {
    "name": "ipython",
    "version": 3
   },
   "file_extension": ".py",
   "mimetype": "text/x-python",
   "name": "python",
   "nbconvert_exporter": "python",
   "pygments_lexer": "ipython3",
   "version": "3.11.6"
  }
 },
 "nbformat": 4,
 "nbformat_minor": 4
}
